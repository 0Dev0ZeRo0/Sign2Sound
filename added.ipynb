{
 "cells": [
  {
   "cell_type": "code",
   "execution_count": 2,
   "id": "76a5eeda-08bf-4781-be7b-7f2269d53da5",
   "metadata": {},
   "outputs": [
    {
     "name": "stdout",
     "output_type": "stream",
     "text": [
      "Which notebook do you want to run?\n",
      "1. main7.ipynb\n",
      "2. num.ipynb\n"
     ]
    },
    {
     "name": "stdin",
     "output_type": "stream",
     "text": [
      "Enter 1 or 2:  2\n"
     ]
    },
    {
     "name": "stdout",
     "output_type": "stream",
     "text": [
      "Result: -1293\n"
     ]
    }
   ],
   "source": [
    "import nbformat\n",
    "from nbconvert import PythonExporter\n",
    "\n",
    "def run_notebook(notebook_path):\n",
    "    # Load and convert notebook\n",
    "    with open(notebook_path) as f:\n",
    "        nb = nbformat.read(f, as_version=4)\n",
    "        exporter = PythonExporter()\n",
    "        source_code, _ = exporter.from_notebook_node(nb)\n",
    "        exec(source_code, globals())\n",
    "\n",
    "if __name__ == \"__main__\":\n",
    "    print(\"Which notebook do you want to run?\")\n",
    "    print(\"1. main7.ipynb\")\n",
    "    print(\"2. num.ipynb\")\n",
    "\n",
    "    choice = input(\"Enter 1 or 2: \")\n",
    "\n",
    "    if choice == '1':\n",
    "        run_notebook(\"main7.ipynb\")\n",
    "    elif choice == '2':\n",
    "        run_notebook(\"num.ipynb\")\n",
    "    else:\n",
    "        print(\"Invalid choice.\")\n"
   ]
  },
  {
   "cell_type": "code",
   "execution_count": null,
   "id": "66526f01-5e95-46c2-95ae-2ba9ebbeaf22",
   "metadata": {},
   "outputs": [],
   "source": []
  }
 ],
 "metadata": {
  "kernelspec": {
   "display_name": "Python (gpy-torch)",
   "language": "python",
   "name": "gpu-torch"
  },
  "language_info": {
   "codemirror_mode": {
    "name": "ipython",
    "version": 3
   },
   "file_extension": ".py",
   "mimetype": "text/x-python",
   "name": "python",
   "nbconvert_exporter": "python",
   "pygments_lexer": "ipython3",
   "version": "3.12.8"
  }
 },
 "nbformat": 4,
 "nbformat_minor": 5
}
